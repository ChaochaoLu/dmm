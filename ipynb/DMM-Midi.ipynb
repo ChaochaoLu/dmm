{
 "cells": [
  {
   "cell_type": "markdown",
   "metadata": {},
   "source": [
    "## Listening to samples from the DMM\n",
    "After running the shell scripts in `expt`, we can listen to samples from the model."
   ]
  },
  {
   "cell_type": "code",
   "execution_count": 11,
   "metadata": {},
   "outputs": [
    {
     "name": "stdout",
     "output_type": "stream",
     "text": [
      "\t\t< importing DMM > took  0.000238180160522   seconds\n"
     ]
    }
   ],
   "source": [
    "import os\n",
    "import numpy as np\n",
    "from utils.misc import loadHDF5, createIfAbsent\n",
    "assert os.path.exists('../expt/chkpt-jsb/'),'Run the shell files in ../expt first'\n",
    "import glob, os, sys, time\n",
    "sys.path.append('../')\n",
    "from utils.misc import getConfigFile, readPickle, displayTime, downloadData, loadHDF5, getLowestError\n",
    "start_time = time.time()\n",
    "from   model_th.dmm import DMM\n",
    "import model_th.learning as DMM_learn\n",
    "import model_th.evaluate as DMM_evaluate\n",
    "displayTime('importing DMM',start_time, time.time())"
   ]
  },
  {
   "cell_type": "markdown",
   "metadata": {},
   "source": [
    "We need to download the midi library available [here](http://www.iro.umontreal.ca/~lisa/deep/midi.zip) to the current folder. "
   ]
  },
  {
   "cell_type": "code",
   "execution_count": 3,
   "metadata": {},
   "outputs": [
    {
     "name": "stdout",
     "output_type": "stream",
     "text": [
      "./midi found\n"
     ]
    }
   ],
   "source": [
    "if not os.path.exists('./midi/'):\n",
    "    download_dir = './'\n",
    "    files        = {}\n",
    "    files['midi.zip'] = 'http://www.iro.umontreal.ca/~lisa/deep/midi.zip'\n",
    "    downloadData(download_dir,files)\n",
    "    os.system('unzip midi.zip;rm -rf midi.zip')\n",
    "else:\n",
    "    print './midi found'"
   ]
  },
  {
   "cell_type": "code",
   "execution_count": 5,
   "metadata": {},
   "outputs": [
    {
     "name": "stdout",
     "output_type": "stream",
     "text": [
      "midi/utils.py  midi/utils.pyc\r\n"
     ]
    }
   ],
   "source": [
    "ls midi/utils*"
   ]
  },
  {
   "cell_type": "markdown",
   "metadata": {},
   "source": [
    "We will also need the timidity package to convert from midi to wav formats"
   ]
  },
  {
   "cell_type": "code",
   "execution_count": 7,
   "metadata": {
    "collapsed": true
   },
   "outputs": [],
   "source": [
    "from midi.utils import midiread, midiwrite\n",
    "assert os.system('timidity -h')==0,'Install Timidity from http://timidity.sourceforge.net/'"
   ]
  },
  {
   "cell_type": "markdown",
   "metadata": {},
   "source": [
    "### Reload DMM"
   ]
  },
  {
   "cell_type": "code",
   "execution_count": 24,
   "metadata": {},
   "outputs": [
    {
     "name": "stdout",
     "output_type": "stream",
     "text": [
      "Hyperparameters in:  ../expt/chkpt-jsb/DMM_lr-0_0008-dh-200-ds-100-nl-relu-bs-20-ep-2000-rs-600-rd-0_1-infm-R-tl-2-el-2-ar-2000_0-use_p-approx-rc-lstm-DKF-ar-config.pkl Found:  True\n",
      "Model parameters in:  ../expt/chkpt-jsb/DMM_lr-0_0008-dh-200-ds-100-nl-relu-bs-20-ep-2000-rs-600-rd-0_1-infm-R-tl-2-el-2-ar-2000_0-use_p-approx-rc-lstm-DKF-ar-EP890-params.npz\n",
      "\t<<Reloading Model>>\n",
      "\t<<Loading structure (../expt/chkpt-jsb/DMM_lr-0_0008-dh-200-ds-100-nl-relu-bs-20-ep-2000-rs-600-rd-0_1-infm-R-tl-2-el-2-ar-2000_0-use_p-approx-rc-lstm-DKF-ar-config.pkl) and model (../expt/chkpt-jsb/DMM_lr-0_0008-dh-200-ds-100-nl-relu-bs-20-ep-2000-rs-600-rd-0_1-infm-R-tl-2-el-2-ar-2000_0-use_p-approx-rc-lstm-DKF-ar-EP890-params.npz) / opt (../expt/chkpt-jsb/DMM_lr-0_0008-dh-200-ds-100-nl-relu-bs-20-ep-2000-rs-600-rd-0_1-infm-R-tl-2-el-2-ar-2000_0-use_p-approx-rc-lstm-DKF-ar-EP890-optParams.npz) weights>>\n",
      "Adding/Modifying loaded parameters:  validate_only  to  True\n",
      "\t<<Nparameters: 3295291>>\n",
      "\t<<Anneal = 1 in 2000.0 param. updates>>\n",
      "\t<<Building with RNN dropout:0.0>>\n",
      "\t<<In _LSTM_RNN_layer with dropout 0.0000>>\n",
      "\t<<Completed DMM setup>>\n",
      "\t<<_buildModel took : 2.1560 seconds>>\n"
     ]
    }
   ],
   "source": [
    "DATASET= 'jsb'\n",
    "DIR    = '../expt/chkpt-'+DATASET+'/'\n",
    "prefix = 'DMM_lr-0_0008-dh-200-ds-100-nl-relu-bs-20-ep-2000-rs-600-rd-0_1-infm-R-tl-2-el-2-ar-2000_0-use_p-approx-rc-lstm-DKF-ar'\n",
    "stats  = loadHDF5(os.path.join(DIR,prefix+'-final.h5'))\n",
    "epochMin, valMin, idxMin = getLowestError(stats['valid_bound'])\n",
    "pfile  =  os.path.join(DIR,prefix+'-config.pkl')\n",
    "\n",
    "params = readPickle(pfile, quiet=True)[0]\n",
    "print 'Hyperparameters in: ',pfile, 'Found: ',os.path.exists(pfile)\n",
    "EP     = '-EP'+str(int(epochMin))\n",
    "reloadFile  =  os.path.join(DIR,prefix+EP+'-params.npz')\n",
    "print 'Model parameters in: ',reloadFile\n",
    "#Don't load the training functions for the model since its time consuming\n",
    "params['validate_only'] = True\n",
    "dmm_reloaded  = DMM(params, paramFile = pfile, reloadFile = reloadFile)"
   ]
  },
  {
   "cell_type": "code",
   "execution_count": 25,
   "metadata": {},
   "outputs": [
    {
     "name": "stdout",
     "output_type": "stream",
     "text": [
      "Samples:  (100, 200, 88)\n"
     ]
    }
   ],
   "source": [
    "params, zvec = DMM_evaluate.sample(dmm_reloaded, T= 200)\n",
    "bin_prob     = params[0]\n",
    "print 'Samples: ',bin_prob.shape"
   ]
  },
  {
   "cell_type": "code",
   "execution_count": 31,
   "metadata": {},
   "outputs": [
    {
     "name": "stdout",
     "output_type": "stream",
     "text": [
      "Saving wav...\n",
      "0 1 2 3 4 5 6 7 8 9 10 11 12 13 14 15 16 17 18 19 20 21 22 23 24 25 26 27 28 29 30 31 32 33 34 35 36 37 38 39 40 41 42 43 44 45 46 47 48 49 50 51 52 53 54 55 56 57 58 59 60 61 62 63 64 65 66 67 68 69 70 71 72 73 74 75 76 77 78 79 80 81 82 83 84 85 86 87 88 89 90 91 92 93 94 95 96 97 98 99 Converting...\n",
      "0\n"
     ]
    }
   ],
   "source": [
    "#Parameters for music sampling taken from http://deeplearning.net/tutorial/rnnrbm.html\n",
    "rval = (21, 109)\n",
    "dt   = 0.3\n",
    "SAVEDIR = './samples/'\n",
    "createIfAbsent(SAVEDIR)\n",
    "print 'Saving wav...'\n",
    "for idx, sample in enumerate(bin_prob):\n",
    "    piano_roll = (sample>0.5)*1.\n",
    "    filename = SAVEDIR+DATASET+'-'+str(idx)+'.midimport IPython\n",
    "IPython.display.Audio(\"my_audio_file.mp3\")'\n",
    "    midiwrite(filename, piano_roll, rval, dt)\n",
    "    print idx,\n",
    "\n",
    "print 'Converting...'\n",
    "print os.system('cd '+SAVEDIR+';timidity -Ow1S *.mid;cd ../')\n",
    "print '\\nFiles\\n',', '.join(os.listdir(SAVEDIR))"
   ]
  },
  {
   "cell_type": "code",
   "execution_count": 35,
   "metadata": {},
   "outputs": [
    {
     "name": "stderr",
     "output_type": "stream",
     "text": [
      "IOPub data rate exceeded.\n",
      "The notebook server will temporarily stop sending output\n",
      "to the client in order to avoid crashing it.\n",
      "To change this limit, set the config variable\n",
      "`--NotebookApp.iopub_data_rate_limit`.\n"
     ]
    }
   ],
   "source": [
    "import IPython\n",
    "IPython.display.Audio('./samples/jsb-0.wav')"
   ]
  },
  {
   "cell_type": "code",
   "execution_count": null,
   "metadata": {
    "collapsed": true
   },
   "outputs": [],
   "source": []
  }
 ],
 "metadata": {
  "kernelspec": {
   "display_name": "Python 2",
   "language": "python",
   "name": "python2"
  },
  "language_info": {
   "codemirror_mode": {
    "name": "ipython",
    "version": 2
   },
   "file_extension": ".py",
   "mimetype": "text/x-python",
   "name": "python",
   "nbconvert_exporter": "python",
   "pygments_lexer": "ipython2",
   "version": "2.7.12"
  }
 },
 "nbformat": 4,
 "nbformat_minor": 2
}
