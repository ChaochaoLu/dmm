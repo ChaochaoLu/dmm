{
 "cells": [
  {
   "cell_type": "markdown",
   "metadata": {},
   "source": [
    "## Model Checkpoints\n",
    "After running the notebook `DMM-Setup.ipynb`, the folder `chkpt-ipython` should now be filled with checkpoint files."
   ]
  },
  {
   "cell_type": "code",
   "execution_count": 9,
   "metadata": {
    "collapsed": true
   },
   "outputs": [],
   "source": [
    "import os\n",
    "import numpy as np\n",
    "from utils.misc import loadHDF5\n",
    "assert os.path.exists('chkpt-ipython/'),'Run the notebook DMM-Setup.ipynb first'"
   ]
  },
  {
   "cell_type": "code",
   "execution_count": 1,
   "metadata": {},
   "outputs": [
    {
     "name": "stdout",
     "output_type": "stream",
     "text": [
      "chkpt-ipython/DMM_lr-0_0008-dh-40-ds-2-nl-relu-bs-200-ep-40-rs-80-rd-0_1-infm-R-tl-2-el-2-ar-2_0-use_p-approx-rc-lstm-uid-EP40-optParams.npz\r\n",
      "chkpt-ipython/DMM_lr-0_0008-dh-40-ds-2-nl-relu-bs-200-ep-40-rs-80-rd-0_1-infm-R-tl-2-el-2-ar-2_0-use_p-approx-rc-lstm-uid-EP40-params.npz\r\n",
      "chkpt-ipython/DMM_lr-0_0008-dh-40-ds-2-nl-relu-bs-200-ep-40-rs-80-rd-0_1-infm-R-tl-2-el-2-ar-2_0-use_p-approx-rc-lstm-uid-EP40-stats.h5\r\n"
     ]
    }
   ],
   "source": [
    "ls chkpt-ipython/*ep-40*"
   ]
  },
  {
   "cell_type": "markdown",
   "metadata": {},
   "source": [
    "* There are three different file types of note: \n",
    "    * `prefix-EP<#>-params.npz` : Contains the parameters of the model (weight matrices)     \n",
    "    * `prefix-EP<#>-optParams.npz` : Contains the parameters corresponding to the optimization process (for ADAM, it contains the momentum variables for the model parameters)\n",
    "    * With the above two files, along with the setup for the computational flow graph in `model/dmm.py`, we can restore a model to its setting at Epoch `<#>`\n",
    "    * `prefix-EP<#>-stats.h5` : Contains statistics (such as the bound evaluated on validation data) calculated at training time. \n",
    "* Lets look at each kind of file and see whats in it. "
   ]
  },
  {
   "cell_type": "markdown",
   "metadata": {},
   "source": [
    "### Probing Model Parameters\n",
    "The model parameters can be loaded and investigated as follows. The save file contains a `dict` whose key is the name of the paramter as created in `model_th/dmm.py`."
   ]
  },
  {
   "cell_type": "code",
   "execution_count": 3,
   "metadata": {},
   "outputs": [
    {
     "name": "stdout",
     "output_type": "stream",
     "text": [
      "opt_v_q_W_st (2, 80)\n",
      "opt_i ()\n",
      "opt_m_q_W_st (2, 80)\n",
      "opt_m_p_emis_b_out (6,)\n",
      "opt_v_p_trans_W_0 (2, 40)\n",
      "opt_v_p_trans_W_1 (40, 40)\n",
      "opt_m_q_b_cov (2,)\n",
      "opt_m_q_W_input_0 (3, 80)\n",
      "opt_v_p_emis_b_1 (40,)\n",
      "opt_v_p_emis_b_out (6,)\n",
      "opt_v_p_trans_b_1 (40,)\n",
      "opt_v_q_W_cov (80, 2)\n",
      "opt_m_W_lstm_r (80, 320)\n",
      "opt_v_b_lstm_r (320,)\n",
      "opt_m_p_trans_W_1 (40, 40)\n",
      "opt_v_p_trans_b_cov (2,)\n",
      "opt_m_q_W_cov (80, 2)\n",
      "opt_v_q_b_mu (2,)\n",
      "opt_m_p_trans_W_mu (40, 2)\n",
      "opt_m_p_trans_W_0 (2, 40)\n",
      "opt_v_q_b_input_0 (80,)\n",
      "opt_m_p_emis_W_0 (2, 40)\n",
      "opt_m_p_emis_W_1 (40, 40)\n",
      "opt_v_p_trans_W_mu (40, 2)\n",
      "opt_v_p_trans_b_mu (2,)\n",
      "opt_v_q_b_cov (2,)\n",
      "opt_m_b_lstm_r (320,)\n",
      "opt_v_p_trans_W_cov (40, 2)\n",
      "opt_m_p_trans_W_cov (40, 2)\n",
      "opt_v_p_emis_W_out (40, 6)\n",
      "opt_v_W_lstm_r (80, 320)\n",
      "opt_v_q_b_st (80,)\n",
      "opt_v_p_emis_W_1 (40, 40)\n",
      "opt_v_p_emis_W_0 (2, 40)\n",
      "opt_m_p_trans_b_cov (2,)\n",
      "opt_v_p_emis_b_0 (40,)\n",
      "opt_m_p_trans_b_0 (40,)\n",
      "opt_m_p_trans_b_1 (40,)\n",
      "opt_m_q_W_mu (80, 2)\n",
      "opt_v_q_W_mu (80, 2)\n",
      "opt_m_p_trans_b_mu (2,)\n",
      "opt_v_q_W_input_0 (3, 80)\n",
      "opt_m_p_emis_b_1 (40,)\n",
      "opt_m_p_emis_b_0 (40,)\n",
      "opt_m_p_emis_W_out (40, 6)\n",
      "opt_m_q_b_st (80,)\n",
      "opt_m_U_lstm_r (80, 320)\n",
      "opt_m_q_b_input_0 (80,)\n",
      "opt_v_U_lstm_r (80, 320)\n",
      "opt_m_q_b_mu (2,)\n",
      "opt_v_p_trans_b_0 (40,)\n"
     ]
    }
   ],
   "source": [
    "opt_params = np.load('./chkpt-ipython/DMM_lr-0_0008-dh-40-ds-2-nl-relu-bs-200-ep-40-rs-80-rd-0_1-infm-R-tl-2-el-2-ar-2_0-use_p-approx-rc-lstm-uid-EP40-optParams.npz')\n",
    "for k in opt_params: \n",
    "    print k, opt_params[k].shape"
   ]
  },
  {
   "cell_type": "code",
   "execution_count": 4,
   "metadata": {},
   "outputs": [
    {
     "name": "stdout",
     "output_type": "stream",
     "text": [
      "p_trans_b_cov (2,)\n",
      "q_W_cov (80, 2)\n",
      "p_emis_W_0 (2, 40)\n",
      "p_emis_W_1 (40, 40)\n",
      "q_b_st (80,)\n",
      "q_W_input_0 (3, 80)\n",
      "q_W_st (2, 80)\n",
      "q_b_input_0 (80,)\n",
      "b_lstm_r (320,)\n",
      "p_emis_W_out (40, 6)\n",
      "p_trans_b_0 (40,)\n",
      "p_trans_b_1 (40,)\n",
      "p_trans_b_mu (2,)\n",
      "q_b_mu (2,)\n",
      "lr ()\n",
      "anneal ()\n",
      "p_emis_b_1 (40,)\n",
      "p_emis_b_0 (40,)\n",
      "p_trans_W_mu (40, 2)\n",
      "update_ctr ()\n",
      "W_lstm_r (80, 320)\n",
      "q_W_mu (80, 2)\n",
      "U_lstm_r (80, 320)\n",
      "q_b_cov (2,)\n",
      "p_emis_b_out (6,)\n",
      "p_trans_W_cov (40, 2)\n",
      "p_trans_W_1 (40, 40)\n",
      "p_trans_W_0 (2, 40)\n"
     ]
    }
   ],
   "source": [
    "opt_params = np.load('./chkpt-ipython/DMM_lr-0_0008-dh-40-ds-2-nl-relu-bs-200-ep-40-rs-80-rd-0_1-infm-R-tl-2-el-2-ar-2_0-use_p-approx-rc-lstm-uid-EP40-params.npz')\n",
    "for k in opt_params: \n",
    "    print k, opt_params[k].shape"
   ]
  },
  {
   "cell_type": "code",
   "execution_count": 5,
   "metadata": {},
   "outputs": [
    {
     "name": "stdout",
     "output_type": "stream",
     "text": [
      "\t\t< importing DMM > took  2.24747085571   seconds\n"
     ]
    }
   ],
   "source": [
    "import glob, os, sys, time\n",
    "sys.path.append('../')\n",
    "from utils.misc import getConfigFile, readPickle, displayTime\n",
    "start_time = time.time()\n",
    "from   model_th.dmm import DMM\n",
    "import model_th.learning as DMM_learn\n",
    "import model_th.evaluate as DMM_evaluate\n",
    "displayTime('importing DMM',start_time, time.time())"
   ]
  },
  {
   "cell_type": "markdown",
   "metadata": {},
   "source": [
    "### Reloading models from a checkpoint\n",
    "To reload a model using the saved checkpoint files, we need: \n",
    "    * The hyperparameters to rebuild the model \n",
    "    * The settings for the weight matrices that comprise the model parameters. \n",
    "* There is a `prefix` which defines the identifier for a checkpoint. The prefix is set at model creation using the unique identifier for the model. "
   ]
  },
  {
   "cell_type": "code",
   "execution_count": 13,
   "metadata": {},
   "outputs": [
    {
     "name": "stdout",
     "output_type": "stream",
     "text": [
      "False\n"
     ]
    }
   ],
   "source": [
    "#This is the prefix we will use\n",
    "DIR    = './chkpt-ipython/'\n",
    "prefix = 'DMM_lr-0_0008-dh-40-ds-2-nl-relu-bs-200-ep-40-rs-80-rd-0_1-infm-R-tl-2-el-2-ar-2_0-use_p-approx-rc-lstm-uid'\n",
    "pfile  =  os.path.join(DIR,prefix+'-config.pkl')\n",
    "print os.path.exists(pfile)"
   ]
  },
  {
   "cell_type": "code",
   "execution_count": 12,
   "metadata": {},
   "outputs": [
    {
     "ename": "IOError",
     "evalue": "[Errno 2] No such file or directory: './chkpt-ipython/DMM_lr-0_0008-dh-40-ds-2-nl-relu-bs-200-ep-40-rs-80-rd-0_1-infm-R-tl-2-el-2-ar-2_0-use_p-approx-rc-lstm-uid-config.pkl'",
     "output_type": "error",
     "traceback": [
      "\u001b[0;31m---------------------------------------------------------------------------\u001b[0m",
      "\u001b[0;31mIOError\u001b[0m                                   Traceback (most recent call last)",
      "\u001b[0;32m<ipython-input-12-a701752c1f0f>\u001b[0m in \u001b[0;36m<module>\u001b[0;34m()\u001b[0m\n\u001b[1;32m      1\u001b[0m \u001b[0;31m#The hyperparameters are saved in a pickle file - lets load them here\u001b[0m\u001b[0;34m\u001b[0m\u001b[0;34m\u001b[0m\u001b[0m\n\u001b[0;32m----> 2\u001b[0;31m \u001b[0mparams\u001b[0m \u001b[0;34m=\u001b[0m \u001b[0mreadPickle\u001b[0m\u001b[0;34m(\u001b[0m\u001b[0mpfile\u001b[0m\u001b[0;34m)\u001b[0m\u001b[0;34m[\u001b[0m\u001b[0;36m0\u001b[0m\u001b[0;34m]\u001b[0m\u001b[0;34m\u001b[0m\u001b[0m\n\u001b[0m",
      "\u001b[0;32m/data/ml2/rahulgk/libraries/theanomodels/utils/misc.pyc\u001b[0m in \u001b[0;36mreadPickle\u001b[0;34m(fname, nobjects, quiet)\u001b[0m\n\u001b[1;32m      6\u001b[0m \u001b[0;32mdef\u001b[0m \u001b[0mreadPickle\u001b[0m\u001b[0;34m(\u001b[0m\u001b[0mfname\u001b[0m\u001b[0;34m,\u001b[0m \u001b[0mnobjects\u001b[0m \u001b[0;34m=\u001b[0m\u001b[0;36m1\u001b[0m\u001b[0;34m,\u001b[0m \u001b[0mquiet\u001b[0m\u001b[0;34m=\u001b[0m\u001b[0mFalse\u001b[0m\u001b[0;34m)\u001b[0m\u001b[0;34m:\u001b[0m\u001b[0;34m\u001b[0m\u001b[0m\n\u001b[1;32m      7\u001b[0m     \u001b[0mobj\u001b[0m \u001b[0;34m=\u001b[0m \u001b[0;34m[\u001b[0m\u001b[0;34m]\u001b[0m\u001b[0;34m\u001b[0m\u001b[0m\n\u001b[0;32m----> 8\u001b[0;31m     \u001b[0;32mwith\u001b[0m \u001b[0mopen\u001b[0m\u001b[0;34m(\u001b[0m\u001b[0mfname\u001b[0m\u001b[0;34m,\u001b[0m\u001b[0;34m'rb'\u001b[0m\u001b[0;34m)\u001b[0m \u001b[0;32mas\u001b[0m \u001b[0mf\u001b[0m\u001b[0;34m:\u001b[0m\u001b[0;34m\u001b[0m\u001b[0m\n\u001b[0m\u001b[1;32m      9\u001b[0m         \u001b[0;32mfor\u001b[0m \u001b[0mn\u001b[0m \u001b[0;32min\u001b[0m \u001b[0mrange\u001b[0m\u001b[0;34m(\u001b[0m\u001b[0mnobjects\u001b[0m\u001b[0;34m)\u001b[0m\u001b[0;34m:\u001b[0m\u001b[0;34m\u001b[0m\u001b[0m\n\u001b[1;32m     10\u001b[0m             \u001b[0mobj\u001b[0m\u001b[0;34m.\u001b[0m\u001b[0mappend\u001b[0m\u001b[0;34m(\u001b[0m\u001b[0mpickle\u001b[0m\u001b[0;34m.\u001b[0m\u001b[0mload\u001b[0m\u001b[0;34m(\u001b[0m\u001b[0mf\u001b[0m\u001b[0;34m)\u001b[0m\u001b[0;34m)\u001b[0m\u001b[0;34m\u001b[0m\u001b[0m\n",
      "\u001b[0;31mIOError\u001b[0m: [Errno 2] No such file or directory: './chkpt-ipython/DMM_lr-0_0008-dh-40-ds-2-nl-relu-bs-200-ep-40-rs-80-rd-0_1-infm-R-tl-2-el-2-ar-2_0-use_p-approx-rc-lstm-uid-config.pkl'"
     ]
    }
   ],
   "source": [
    "#The hyperparameters are saved in a pickle file - lets load them here\n",
    "params = readPickle(pfile)[0]"
   ]
  },
  {
   "cell_type": "code",
   "execution_count": 7,
   "metadata": {},
   "outputs": [
    {
     "name": "stdout",
     "output_type": "stream",
     "text": [
      "./chkpt-ipython/DMM_lr-0_0008-dh-40-ds-2-nl-relu-bs-200-ep-40-rs-80-rd-0_1-infm-R-tl-2-el-2-ar-2_0-use_p-approx-rc-lstm-uid-EP40-config.pkl\n"
     ]
    }
   ],
   "source": [
    "EP     = '-EP40'\n",
    "#Point the model to the saved pickle file which contains the hyperparameters of the model as well as \n",
    "#the epoch specific reloadfile\n",
    "\n",
    "reloadFile  =  os.path.join(DIR,prefix+EP+'-params.npz')\n",
    "dmm_reloaded  = DMM(params, paramFile = pfile, reloadFile = reloadFile)"
   ]
  },
  {
   "cell_type": "code",
   "execution_count": null,
   "metadata": {
    "collapsed": true
   },
   "outputs": [],
   "source": []
  }
 ],
 "metadata": {
  "kernelspec": {
   "display_name": "Python 2",
   "language": "python",
   "name": "python2"
  },
  "language_info": {
   "codemirror_mode": {
    "name": "ipython",
    "version": 2
   },
   "file_extension": ".py",
   "mimetype": "text/x-python",
   "name": "python",
   "nbconvert_exporter": "python",
   "pygments_lexer": "ipython2",
   "version": "2.7.12"
  }
 },
 "nbformat": 4,
 "nbformat_minor": 2
}
